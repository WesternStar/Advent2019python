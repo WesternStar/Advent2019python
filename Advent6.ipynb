{
 "cells": [
  {
   "cell_type": "code",
   "execution_count": 1,
   "metadata": {},
   "outputs": [],
   "source": [
    "f= open(\"input2.txt\")\n",
    "lines=f.readlines()\n",
    "lines = [x.strip() for x in lines]"
   ]
  },
  {
   "cell_type": "code",
   "execution_count": 2,
   "metadata": {},
   "outputs": [],
   "source": [
    "bodies=dict()\n",
    "class Body():\n",
    "    def __init__(self,name,parent):\n",
    "        self.parent=parent\n",
    "        self.name=name\n",
    "        bodies[self.name]=self\n",
    "        \n",
    "    def __str__(self):\n",
    "        return print(\"{} Child of {}\".format(self.name,self.parent))\n",
    "    \n",
    "    def orbits(self):\n",
    "        if self.parent is not None:\n",
    "            return bodies[self.parent].orbits()+1\n",
    "        else:\n",
    "            return 0\n",
    "    def ancestors(self):\n",
    "        if self.parent is not None:\n",
    "            return bodies[self.parent].ancestors()+[self.parent]\n",
    "        else:\n",
    "            return []\n",
    "    \n",
    "\n",
    "def allOrbits():\n",
    "    sum =0\n",
    "    for i in bodies.values():\n",
    "        sum = sum + i.orbits()\n",
    "    return sum\n",
    "\n",
    "def LCA(left,right):\n",
    "    lca=\"COM\"\n",
    "    l=left.ancestors()\n",
    "    r=right.ancestors()\n",
    "    for i in range(max(len(l),len(r))):\n",
    "        if l[i] != r[i]:\n",
    "            return lca\n",
    "        else:\n",
    "            lca=l[i]\n",
    "    \n",
    "def movOrbit(fr,to):\n",
    "    l=LCA(fr,to)\n",
    "    orbit_common=bodies[l].orbits()\n",
    "    return (fr.orbits()-orbit_common-1)+(to.orbits()-orbit_common-1)\n",
    "    "
   ]
  },
  {
   "cell_type": "code",
   "execution_count": 3,
   "metadata": {},
   "outputs": [
    {
     "data": {
      "text/plain": [
       "<__main__.Body at 0x7f5a35736ac0>"
      ]
     },
     "execution_count": 3,
     "metadata": {},
     "output_type": "execute_result"
    }
   ],
   "source": [
    "Body(\"COM\",None)"
   ]
  },
  {
   "cell_type": "code",
   "execution_count": 4,
   "metadata": {},
   "outputs": [],
   "source": [
    "for i in lines:\n",
    "    parent,child= i.split(')')\n",
    "    Body(child,parent)"
   ]
  },
  {
   "cell_type": "code",
   "execution_count": 5,
   "metadata": {},
   "outputs": [
    {
     "data": {
      "text/plain": [
       "154386"
      ]
     },
     "execution_count": 5,
     "metadata": {},
     "output_type": "execute_result"
    }
   ],
   "source": [
    "allOrbits()"
   ]
  },
  {
   "cell_type": "code",
   "execution_count": 6,
   "metadata": {},
   "outputs": [
    {
     "data": {
      "text/plain": [
       "231"
      ]
     },
     "execution_count": 6,
     "metadata": {},
     "output_type": "execute_result"
    }
   ],
   "source": [
    "bodies[\"SAN\"].orbits()"
   ]
  },
  {
   "cell_type": "code",
   "execution_count": 7,
   "metadata": {},
   "outputs": [
    {
     "data": {
      "text/plain": [
       "346"
      ]
     },
     "execution_count": 7,
     "metadata": {},
     "output_type": "execute_result"
    }
   ],
   "source": [
    "movOrbit(bodies[\"SAN\"],bodies[\"YOU\"])"
   ]
  },
  {
   "cell_type": "code",
   "execution_count": null,
   "metadata": {},
   "outputs": [],
   "source": []
  },
  {
   "cell_type": "code",
   "execution_count": null,
   "metadata": {},
   "outputs": [],
   "source": []
  },
  {
   "cell_type": "code",
   "execution_count": null,
   "metadata": {},
   "outputs": [],
   "source": []
  }
 ],
 "metadata": {
  "kernelspec": {
   "display_name": "Python 3",
   "language": "python",
   "name": "python3"
  },
  "language_info": {
   "codemirror_mode": {
    "name": "ipython",
    "version": 3
   },
   "file_extension": ".py",
   "mimetype": "text/x-python",
   "name": "python",
   "nbconvert_exporter": "python",
   "pygments_lexer": "ipython3",
   "version": "3.8.0"
  }
 },
 "nbformat": 4,
 "nbformat_minor": 2
}
